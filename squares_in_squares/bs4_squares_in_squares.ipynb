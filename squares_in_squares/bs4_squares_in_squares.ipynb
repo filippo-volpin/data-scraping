{
  "cells": [
    {
      "attachments": {},
      "cell_type": "markdown",
      "metadata": {},
      "source": [
        "Notebook that collects data from Erich Friedman's research on _[\"Packing Unit Squares in Squares\"](https://erich-friedman.github.io/packing/squinsqu/)_ and plots the mapping between numbers of unit squares and area of the smallest square in which they can be packed. "
      ]
    },
    {
      "cell_type": "markdown",
      "metadata": {
        "id": "NKRy9ypriFv3"
      },
      "source": [
        "# 01) import libraries"
      ]
    },
    {
      "cell_type": "code",
      "execution_count": 1,
      "metadata": {
        "id": "R2XEh-IGaU2I"
      },
      "outputs": [],
      "source": [
        "import pandas as pd\n",
        "import requests\n",
        "import re\n",
        "from bs4 import BeautifulSoup\n",
        "\n",
        "import seaborn as sns\n",
        "import statsmodels.api as sm"
      ]
    },
    {
      "cell_type": "markdown",
      "metadata": {
        "id": "lHOLYXzliLjo"
      },
      "source": [
        "# 02) scrape table"
      ]
    },
    {
      "cell_type": "code",
      "execution_count": 9,
      "metadata": {
        "id": "RP59Hnlkar06"
      },
      "outputs": [
        {
          "name": "stdout",
          "output_type": "stream",
          "text": [
            "<!DOCTYPE html public \"-//IETF//DTD HTML//EN\">\n",
            "<html>\n",
            " <head>\n",
            "  <title>\n",
            "   Squares in Squares\n",
            "  </title>\n",
            " </head>\n",
            " <body bgcolor=\"#FFFFFF\">\n",
            "  <center>\n",
            "   <font size=\"+4\">\n",
            "    Squares in Squares\n",
            "   </font>\n",
            "  </center>\n",
            "  <p>\n",
            "   <font size=\"+1\">\n",
            "    The following pictures show n unit squares packed inside the smallest known square (of side length s).  For the  n  not pictured, the trivial packing (with no tilted squares) is the best known packing.\n",
            "    <p>\n",
            "     <hr/>\n",
            "     <p>\n",
            "      <table border=\"0\"\n"
          ]
        }
      ],
      "source": [
        "site_url = \"https://erich-friedman.github.io/packing/squinsqu/\"\n",
        "response = requests.get(site_url)\n",
        "html_doc = response.content\n",
        "soup = BeautifulSoup(html_doc, 'html.parser')\n",
        "\n",
        "print(soup.prettify()[:500])"
      ]
    },
    {
      "cell_type": "markdown",
      "metadata": {
        "id": "QaftTlyJiQj7"
      },
      "source": [
        "# 04) parse results"
      ]
    },
    {
      "cell_type": "code",
      "execution_count": 10,
      "metadata": {},
      "outputs": [],
      "source": [
        "res_squares = []\n",
        "res_areas = []\n",
        "\n",
        "for i,match in enumerate(soup.find_all(string=re.compile(\"^[\\d]+\\.$\"))):\n",
        "    match = match.strip()\n",
        "    match = match[:-1]\n",
        "    \n",
        "    res_squares.append(int(match))\n",
        "\n",
        "\n",
        "for i,match in enumerate(soup.find_all(string=re.compile(\"(s =.*)\"))):\n",
        "    match = match[3:]                       # remove \"s =\"\n",
        "    if match.find(\"=\") > 1:                 # remove analytical expression\n",
        "        match = match[match.find(\"=\")+2:]\n",
        "    if match[-1] == \"+\":                    # remove trailing \"+\" symbol\n",
        "        match = match[:-1]\n",
        "    match = match.strip()\n",
        "\n",
        "    res_areas.append(float(match))\n",
        "\n",
        "data = pd.DataFrame({\"squares\":res_squares, \"area\":res_areas})"
      ]
    },
    {
      "cell_type": "code",
      "execution_count": 11,
      "metadata": {},
      "outputs": [
        {
          "data": {
            "text/plain": [
              "<AxesSubplot:xlabel='squares', ylabel='area'>"
            ]
          },
          "execution_count": 11,
          "metadata": {},
          "output_type": "execute_result"
        },
        {
          "data": {
            "image/png": "[encoded data removed]",
            "text/plain": [
              "<Figure size 360x360 with 1 Axes>"
            ]
          },
          "metadata": {
            "needs_background": "light"
          },
          "output_type": "display_data"
        }
      ],
      "source": [
        "# sns.set(rc={'figure.figsize':(12,12)})\n",
        "sns.relplot(data = data, x = \"squares\", y = \"area\", zorder = 100)\n",
        "sns.lineplot(data = data, x = \"squares\", y = \"area\", color = \"aqua\", alpha = 0.5, zorder = 99)"
      ]
    },
    {
      "attachments": {},
      "cell_type": "markdown",
      "metadata": {
        "id": "8mafqvhwtNDL"
      },
      "source": [
        "# 05) export"
      ]
    },
    {
      "cell_type": "code",
      "execution_count": 5,
      "metadata": {
        "colab": {
          "base_uri": "https://localhost:8080/"
        },
        "id": "dyP23316tOcR",
        "outputId": "eb2bb77d-61ed-468d-f93c-210f23d7246c"
      },
      "outputs": [
        {
          "name": "stdout",
          "output_type": "stream",
          "text": [
            "File exported successfully!\n"
          ]
        }
      ],
      "source": [
        "data.to_excel(\"squares_in_squares.xlsx\", index = False)\n",
        "print(\"File exported successfully!\")"
      ]
    }
  ],
  "metadata": {
    "colab": {
      "provenance": []
    },
    "kernelspec": {
      "display_name": "Python 3",
      "language": "python",
      "name": "python3"
    },
    "language_info": {
      "codemirror_mode": {
        "name": "ipython",
        "version": 3
      },
      "file_extension": ".py",
      "mimetype": "text/x-python",
      "name": "python",
      "nbconvert_exporter": "python",
      "pygments_lexer": "ipython3",
      "version": "3.10.4"
    },
    "vscode": {
      "interpreter": {
        "hash": "510bf11c66312c57553c778e95194a8e30cff11d9b6d05cf8b0c105636ab8e90"
      }
    }
  },
  "nbformat": 4,
  "nbformat_minor": 0
}
